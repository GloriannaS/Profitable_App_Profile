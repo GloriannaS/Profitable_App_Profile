{
 "cells": [
  {
   "cell_type": "markdown",
   "metadata": {},
   "source": [
    "# Analyzing Mobile App Data\n",
    "\n",
    "To have a successful business in any field, accurate processing, organization, and analysis of the business's data is crucial. Recognizing what has been profitable in the past, what needs to be discontinued, and monitoring new additions are all part of a company's advancement, and require detailed attention. As more data is acquired, the need for organization rapidly becomes more urgent. In this project, we will simulate accurate data analysis for a mobile app company."
   ]
  },
  {
   "cell_type": "code",
   "execution_count": 2,
   "metadata": {},
   "outputs": [],
   "source": [
    "opened_file = open('AppleStore.csv')\n",
    "from csv import reader\n",
    "read_file = reader(opened_file)\n",
    "apple_store = list(read_file)\n",
    "apple_store_header = apple_store[0]\n",
    "apple_store = apple_store[1:]\n",
    "\n",
    "opened_file = open('googleplaystore.csv')\n",
    "from csv import reader\n",
    "read_file = reader(opened_file)\n",
    "google_play = list(read_file)\n",
    "google_play_header = google_play[0]\n",
    "google_play = google_play[1:]"
   ]
  },
  {
   "cell_type": "markdown",
   "metadata": {},
   "source": [
    "In the code above we have opened our two data files. They are now ready to be used! Before we dive into organizing our data, it is good to, if only for the benefit of the coder, get a feel for what our data files hold, and in what form the data is given. In the code below we will use a function to help us access the data repeatedly in an orderly fashion. The function also has the option to give us more information about the size of our data files."
   ]
  },
  {
   "cell_type": "code",
   "execution_count": 3,
   "metadata": {
    "scrolled": true
   },
   "outputs": [
    {
     "name": "stdout",
     "output_type": "stream",
     "text": [
      "['id', 'track_name', 'size_bytes', 'currency', 'price', 'rating_count_tot', 'rating_count_ver', 'user_rating', 'user_rating_ver', 'ver', 'cont_rating', 'prime_genre', 'sup_devices.num', 'ipadSc_urls.num', 'lang.num', 'vpp_lic']\n",
      "\n",
      "\n",
      "['284882215', 'Facebook', '389879808', 'USD', '0.0', '2974676', '212', '3.5', '3.5', '95.0', '4+', 'Social Networking', '37', '1', '29', '1']\n",
      "\n",
      "\n",
      "['389801252', 'Instagram', '113954816', 'USD', '0.0', '2161558', '1289', '4.5', '4.0', '10.23', '12+', 'Photo & Video', '37', '0', '29', '1']\n",
      "\n",
      "\n",
      "['529479190', 'Clash of Clans', '116476928', 'USD', '0.0', '2130805', '579', '4.5', '4.5', '9.24.12', '9+', 'Games', '38', '5', '18', '1']\n",
      "\n",
      "\n",
      "['420009108', 'Temple Run', '65921024', 'USD', '0.0', '1724546', '3842', '4.5', '4.0', '1.6.2', '9+', 'Games', '40', '5', '1', '1']\n",
      "\n",
      "\n",
      "['284035177', 'Pandora - Music & Radio', '130242560', 'USD', '0.0', '1126879', '3594', '4.0', '4.5', '8.4.1', '12+', 'Music', '37', '4', '1', '1']\n",
      "\n",
      "\n",
      "Number of rows: 7197\n",
      "Number of columns: 16\n",
      "['App', 'Category', 'Rating', 'Reviews', 'Size', 'Installs', 'Type', 'Price', 'Content Rating', 'Genres', 'Last Updated', 'Current Ver', 'Android Ver']\n",
      "\n",
      "\n",
      "['Photo Editor & Candy Camera & Grid & ScrapBook', 'ART_AND_DESIGN', '4.1', '159', '19M', '10,000+', 'Free', '0', 'Everyone', 'Art & Design', 'January 7, 2018', '1.0.0', '4.0.3 and up']\n",
      "\n",
      "\n",
      "['Coloring book moana', 'ART_AND_DESIGN', '3.9', '967', '14M', '500,000+', 'Free', '0', 'Everyone', 'Art & Design;Pretend Play', 'January 15, 2018', '2.0.0', '4.0.3 and up']\n",
      "\n",
      "\n",
      "['U Launcher Lite – FREE Live Cool Themes, Hide Apps', 'ART_AND_DESIGN', '4.7', '87510', '8.7M', '5,000,000+', 'Free', '0', 'Everyone', 'Art & Design', 'August 1, 2018', '1.2.4', '4.0.3 and up']\n",
      "\n",
      "\n",
      "['Sketch - Draw & Paint', 'ART_AND_DESIGN', '4.5', '215644', '25M', '50,000,000+', 'Free', '0', 'Teen', 'Art & Design', 'June 8, 2018', 'Varies with device', '4.2 and up']\n",
      "\n",
      "\n",
      "['Pixel Draw - Number Art Coloring Book', 'ART_AND_DESIGN', '4.3', '967', '2.8M', '100,000+', 'Free', '0', 'Everyone', 'Art & Design;Creativity', 'June 20, 2018', '1.1', '4.4 and up']\n",
      "\n",
      "\n",
      "Number of rows: 10841\n",
      "Number of columns: 13\n"
     ]
    }
   ],
   "source": [
    "def explore_data(dataset, start, end, rows_and_columns=False):\n",
    "    dataset_slice = dataset[start:end]    \n",
    "    for row in dataset_slice:\n",
    "        print(row)\n",
    "        print('\\n') # adds a new (empty) line after each row\n",
    "\n",
    "    if rows_and_columns:\n",
    "        print('Number of rows:', len(dataset))\n",
    "        print('Number of columns:', len(dataset[0]))\n",
    "\n",
    "print(apple_store_header)\n",
    "print('\\n')\n",
    "explore_data(apple_store, 0, 5, rows_and_columns=True)\n",
    "\n",
    "print(google_play_header)\n",
    "print('\\n')\n",
    "explore_data(google_play, 0, 5, rows_and_columns=True)"
   ]
  },
  {
   "cell_type": "markdown",
   "metadata": {},
   "source": [
    "After using our function, we can see that the AppleStore file has 7197 rows and 16 columns, while the GooglePlay file has 10841 rows and 13 columns. Each column covers a singular topic, such as price, user ratings, reviews, name, and size. Each row holds the information for each new app. Understanding the form the data files are written in, we can now proceed to process and organize our data.\n",
    "\n",
    "The first step in organizing our data is cleaning it. Data cleaning includes removing duplicate data, inaccurate data, or data that doesn't fit our criteria. Our criteria is free, English apps. If an app is not free, or not in English, it needs to be removed. As data analysts, we need to be very detailed and careful when cleaning data, as a proper analysis of our data cannot be achieved with incorrect data in our files.\n",
    "\n",
    "To clean our data, we will first run our data through a for loop that will look for any apps missing data. Then we will use the helpful discussion pages for both the [AppleStore](https://www.kaggle.com/datasets/ramamet4/app-store-apple-data-set-10k-apps/discussion) dataset and the [Google Play](https://www.kaggle.com/datasets/lava18/google-play-store-apps/discussion) dataset to see if any other users have found more problems in these files."
   ]
  },
  {
   "cell_type": "code",
   "execution_count": 4,
   "metadata": {},
   "outputs": [
    {
     "name": "stdout",
     "output_type": "stream",
     "text": [
      "Error found in Google Play dataset:\n",
      "['App', 'Category', 'Rating', 'Reviews', 'Size', 'Installs', 'Type', 'Price', 'Content Rating', 'Genres', 'Last Updated', 'Current Ver', 'Android Ver']\n",
      "\n",
      "\n",
      "['Life Made WI-Fi Touchscreen Photo Frame', '1.9', '19', '3.0M', '1,000+', 'Free', '0', 'Everyone', '', 'February 11, 2018', '1.0.19', '4.0 and up']\n",
      "10472\n"
     ]
    }
   ],
   "source": [
    "index = 0\n",
    "for app in apple_store: # Looping through AppleStore dataset\n",
    "    if len(app) != len(apple_store_header):\n",
    "        print(\"Error found in AppleStore dataset:\")\n",
    "        print(apple_store_header)\n",
    "        print(\"\\n\")\n",
    "        print(app)\n",
    "        print(index)\n",
    "    index += 1\n",
    "\n",
    "index = 0\n",
    "for app in google_play: # looping through Google Play dataset\n",
    "    if len(app) != len(google_play_header):\n",
    "        print(\"Error found in Google Play dataset:\")\n",
    "        print(google_play_header)\n",
    "        print(\"\\n\")\n",
    "        print(app)\n",
    "        print(index)\n",
    "    index += 1        "
   ]
  },
  {
   "cell_type": "markdown",
   "metadata": {},
   "source": [
    "Our loops have returned an error in the Google Play dataset. It seems as though the app \"Life Made WI-Fi Touchscreen Photo Frame\" is missing a piece of data (has an empty string). Furthermore, after looking at the discussion pages for both datasets, the only error reported was the one we just found ourselves! We will now proceed to delete this app from the Google Play dataset. It is important to note that we must carefully handle the code below, only running it once. If the code is run more than once it will delete more than just our problematic app."
   ]
  },
  {
   "cell_type": "code",
   "execution_count": 5,
   "metadata": {},
   "outputs": [],
   "source": [
    "del google_play[10472]"
   ]
  },
  {
   "cell_type": "markdown",
   "metadata": {},
   "source": [
    "Now we need to check our datasets for duplicates. In the code below, we will run through the names of all the apps, and if one appears more than once, we put it in the duplicate list. Once our duplicate lists are complete, we will print a small preview and the length of the list. We will repeat this same code for each dataset."
   ]
  },
  {
   "cell_type": "code",
   "execution_count": 6,
   "metadata": {},
   "outputs": [
    {
     "name": "stdout",
     "output_type": "stream",
     "text": [
      "Number of duplicate apps in the AppleStore dataset: 2\n",
      "Examples of duplicate apps in the AppleStore dataset: ['Mannequin Challenge', 'VR Roller Coaster']\n",
      "\n",
      "\n",
      "Number of duplicate apps in the Google Play dataset: 1181\n",
      "Examples of duplicate apps in the Google Play dataset: ['Quick PDF Scanner + OCR FREE', 'Box', 'Google My Business', 'ZOOM Cloud Meetings', 'join.me - Simple Meetings', 'Box', 'Zenefits', 'Google Ads', 'Google My Business', 'Slack', 'FreshBooks Classic', 'Insightly CRM', 'QuickBooks Accounting: Invoicing & Expenses', 'HipChat - Chat Built for Teams', 'Xero Accounting Software']\n"
     ]
    }
   ],
   "source": [
    "duplicate_as = [] # 'as' stands for AppleStore; same in next line\n",
    "unique_as = []\n",
    "\n",
    "for app in apple_store:\n",
    "    name = app[1]\n",
    "    if name in unique_as:\n",
    "        duplicate_as.append(name)\n",
    "    else:\n",
    "        unique_as.append(name)\n",
    "\n",
    "print('Number of duplicate apps in the AppleStore dataset:', len(duplicate_as))\n",
    "print('Examples of duplicate apps in the AppleStore dataset:', duplicate_as[:15])\n",
    "print('\\n')\n",
    "\n",
    "duplicate_gp = [] # 'gp' stands for Google Play; same in next line\n",
    "unique_gp = []\n",
    "\n",
    "for app in google_play:\n",
    "    name = app[0]\n",
    "    if name in unique_gp:\n",
    "        duplicate_gp.append(name)\n",
    "    else:\n",
    "        unique_gp.append(name)\n",
    "\n",
    "print('Number of duplicate apps in the Google Play dataset:', len(duplicate_gp))\n",
    "print('Examples of duplicate apps in the Google Play dataset:', duplicate_gp[:15])\n",
    "\n"
   ]
  },
  {
   "cell_type": "markdown",
   "metadata": {},
   "source": [
    "Looking at our output, we can see that both our datasets have duplicates. The AppleStore dataset has only two, while the Google Play dataset has significantly more. However, we are not going to simply remove all the duplicate data, because one of the duplicates may have more updated information than the others. We need to examine the different rows and select the most updated ones, using a dictionary. For every app name that occurs in our dataset, a new dictionary key is created. The value for each key will then be the number of reviews for that app. Every time the app reoccurs as a duplicate, the number of reviews is checked to see if the new number of reviews is more updated than the current key number."
   ]
  },
  {
   "cell_type": "code",
   "execution_count": 7,
   "metadata": {},
   "outputs": [
    {
     "name": "stdout",
     "output_type": "stream",
     "text": [
      "Expected length: 9659\n",
      "\n",
      "\n",
      "Google Play Dictionary length:  9659\n"
     ]
    }
   ],
   "source": [
    "print('Expected length:', len(google_play) - 1181)\n",
    "print('\\n')\n",
    "\n",
    "reviews_max_gp = {}\n",
    "for app in google_play:\n",
    "    name = app[0]\n",
    "    n_reviews = float(app[3])\n",
    "    if (name in reviews_max_gp) and (reviews_max_gp[name] < n_reviews):\n",
    "        reviews_max_gp[name] = n_reviews\n",
    "    elif name not in reviews_max_gp:\n",
    "        reviews_max_gp[name] = n_reviews\n",
    "\n",
    "print(\"Google Play Dictionary length: \", len(reviews_max_gp))"
   ]
  },
  {
   "cell_type": "code",
   "execution_count": 8,
   "metadata": {},
   "outputs": [
    {
     "name": "stdout",
     "output_type": "stream",
     "text": [
      "Expected length: 7195\n",
      "\n",
      "\n",
      "AppleStore Dictionary length:  7195\n"
     ]
    }
   ],
   "source": [
    "print('Expected length:', len(apple_store) - 2)\n",
    "print('\\n')\n",
    "\n",
    "reviews_max_as = {}\n",
    "for app in apple_store:\n",
    "    name = app[1]\n",
    "    n_reviews = float(app[5])\n",
    "    if (name in reviews_max_as) and (reviews_max_as[name] < n_reviews):\n",
    "        reviews_max_as[name] = n_reviews\n",
    "    elif name not in reviews_max_as:\n",
    "        reviews_max_as[name] = n_reviews\n",
    "\n",
    "print(\"AppleStore Dictionary length: \", len(reviews_max_as))"
   ]
  },
  {
   "cell_type": "markdown",
   "metadata": {},
   "source": [
    "Now that we have our dictionaries, we can start using them to remove the duplicates in our datasets."
   ]
  },
  {
   "cell_type": "code",
   "execution_count": 9,
   "metadata": {},
   "outputs": [
    {
     "name": "stdout",
     "output_type": "stream",
     "text": [
      "['Photo Editor & Candy Camera & Grid & ScrapBook', 'ART_AND_DESIGN', '4.1', '159', '19M', '10,000+', 'Free', '0', 'Everyone', 'Art & Design', 'January 7, 2018', '1.0.0', '4.0.3 and up']\n",
      "\n",
      "\n",
      "['U Launcher Lite – FREE Live Cool Themes, Hide Apps', 'ART_AND_DESIGN', '4.7', '87510', '8.7M', '5,000,000+', 'Free', '0', 'Everyone', 'Art & Design', 'August 1, 2018', '1.2.4', '4.0.3 and up']\n",
      "\n",
      "\n",
      "['Sketch - Draw & Paint', 'ART_AND_DESIGN', '4.5', '215644', '25M', '50,000,000+', 'Free', '0', 'Teen', 'Art & Design', 'June 8, 2018', 'Varies with device', '4.2 and up']\n",
      "\n",
      "\n",
      "Number of rows: 9659\n",
      "Number of columns: 13\n"
     ]
    }
   ],
   "source": [
    "gp_clean = [] # 'gp' stands for Google Play\n",
    "already_added_gp = []\n",
    "\n",
    "for app in google_play:\n",
    "    name = app[0]\n",
    "    n_reviews = float(app[3])\n",
    "    if (reviews_max_gp[name] == n_reviews) and (name not in already_added_gp):\n",
    "        gp_clean.append(app)\n",
    "        already_added_gp.append(name)\n",
    "\n",
    "explore_data(gp_clean, 0, 3, True)"
   ]
  },
  {
   "cell_type": "code",
   "execution_count": 10,
   "metadata": {},
   "outputs": [
    {
     "name": "stdout",
     "output_type": "stream",
     "text": [
      "['284882215', 'Facebook', '389879808', 'USD', '0.0', '2974676', '212', '3.5', '3.5', '95.0', '4+', 'Social Networking', '37', '1', '29', '1']\n",
      "\n",
      "\n",
      "['389801252', 'Instagram', '113954816', 'USD', '0.0', '2161558', '1289', '4.5', '4.0', '10.23', '12+', 'Photo & Video', '37', '0', '29', '1']\n",
      "\n",
      "\n",
      "['529479190', 'Clash of Clans', '116476928', 'USD', '0.0', '2130805', '579', '4.5', '4.5', '9.24.12', '9+', 'Games', '38', '5', '18', '1']\n",
      "\n",
      "\n",
      "Number of rows: 7195\n",
      "Number of columns: 16\n"
     ]
    }
   ],
   "source": [
    "as_clean = [] # 'as' stands for AppleStore\n",
    "already_added_as = []\n",
    "\n",
    "for app in apple_store:\n",
    "    name = app[1]\n",
    "    n_reviews = float(app[5])\n",
    "    if (reviews_max_as[name] == n_reviews) and (name not in already_added_as):\n",
    "        as_clean.append(app)\n",
    "        already_added_as.append(name)\n",
    "\n",
    "explore_data(as_clean, 0, 3, True)"
   ]
  },
  {
   "cell_type": "markdown",
   "metadata": {},
   "source": [
    "In the codes above, we loop through both of our datasets. For each loop, we assign the name of the app iteration to a variable, and we assign the number of reviews to a variable. Using these for each app in the dataset, we check each one to see if it has the maximum number of reviews for that app, using our dictionary. We also check to see if the app in question has already been addressed, otherwise, we might accidentally include some duplicate apps in our gp_clean list. Finally, we use our explore_data function to ensure everything went as expected in our data cleaning loop.\n",
    "\n",
    "Now that we have cleaned our datasets of duplicates, we would now like to clean it of apps that are not made for an English audience, or apps that are written in different languages. Before we start removing these apps from our dataset, however, we are first going to write a function that will check strings to see whether they are English or not. We will do this by checking the corresponding number for each character.\n",
    "\n",
    "Note: The 'print' entries below the function enter practice or test strings into the function to make sure it runs correctly and returns the right return statement."
   ]
  },
  {
   "cell_type": "code",
   "execution_count": 11,
   "metadata": {},
   "outputs": [
    {
     "name": "stdout",
     "output_type": "stream",
     "text": [
      "True\n",
      "False\n",
      "False\n",
      "False\n"
     ]
    }
   ],
   "source": [
    "def is_english(string):\n",
    "    \n",
    "    for character in string:\n",
    "        if ord(character) > 127:\n",
    "            return False\n",
    "    \n",
    "    return True\n",
    "\n",
    "print(is_english('Instagram'))\n",
    "print(is_english('爱奇艺PPS -《欢乐颂2》电视剧热播'))\n",
    "print(is_english('Docs To Go™ Free Office Suite'))\n",
    "print(is_english('Instachat 😜'))"
   ]
  },
  {
   "cell_type": "markdown",
   "metadata": {},
   "source": [
    "In this function, we can see that when all the characters are English, it returns 'True'. However, the characters '™' and '😜' fall out of the [ASCII](https://en.wikipedia.org/wiki/ASCII) (American Standard Code for Information Interchange) range for English, which causes these strings to return 'False'.\n",
    "\n",
    "Although the function completed its job, the last two strings we entered were labeled as 'not English' because of the two characters that were not in the English range. If we keep the function the way it is, we stand to lose much useful data. In the code below, we will rewrite our function, but with a few changes to preserve as much useful data as possible. We shall make it so that a string is only labeled as 'not English' if it has more than three non-English characters. If the string has even up to three non-English characters, it will still be labeled as English. While this new function filter is still imperfect, it should be able to get us the majority of the data that we need."
   ]
  },
  {
   "cell_type": "code",
   "execution_count": 12,
   "metadata": {},
   "outputs": [
    {
     "name": "stdout",
     "output_type": "stream",
     "text": [
      "True\n",
      "False\n",
      "True\n",
      "True\n"
     ]
    }
   ],
   "source": [
    "def is_english(string):\n",
    "    non_english = 0\n",
    "    for character in string:    \n",
    "        if ord(character) > 127:\n",
    "            non_english +=1\n",
    "        if non_english > 3:\n",
    "            return False\n",
    "    return True\n",
    "\n",
    "print(is_english('Instagram'))\n",
    "print(is_english('爱奇艺PPS -《欢乐颂2》电视剧热播'))\n",
    "print(is_english('Docs To Go™ Free Office Suite'))\n",
    "print(is_english('Instachat 😜'))"
   ]
  },
  {
   "cell_type": "markdown",
   "metadata": {},
   "source": [
    "We shall now use our function to clean both the AppleStore dataset and the Google Play dataset by looping through the dataset. If the name of an app has three or fewer non-English characters, that app will be placed in a new clean list."
   ]
  },
  {
   "cell_type": "code",
   "execution_count": 13,
   "metadata": {
    "scrolled": true
   },
   "outputs": [
    {
     "name": "stdout",
     "output_type": "stream",
     "text": [
      "Clean Google Play dataset sample:\n",
      "['Photo Editor & Candy Camera & Grid & ScrapBook', 'ART_AND_DESIGN', '4.1', '159', '19M', '10,000+', 'Free', '0', 'Everyone', 'Art & Design', 'January 7, 2018', '1.0.0', '4.0.3 and up']\n",
      "\n",
      "\n",
      "['U Launcher Lite – FREE Live Cool Themes, Hide Apps', 'ART_AND_DESIGN', '4.7', '87510', '8.7M', '5,000,000+', 'Free', '0', 'Everyone', 'Art & Design', 'August 1, 2018', '1.2.4', '4.0.3 and up']\n",
      "\n",
      "\n",
      "['Sketch - Draw & Paint', 'ART_AND_DESIGN', '4.5', '215644', '25M', '50,000,000+', 'Free', '0', 'Teen', 'Art & Design', 'June 8, 2018', 'Varies with device', '4.2 and up']\n",
      "\n",
      "\n",
      "Number of rows: 9614\n",
      "Number of columns: 13\n",
      "\n",
      "\n",
      "Clean AppleStore dataset sample:\n",
      "['284882215', 'Facebook', '389879808', 'USD', '0.0', '2974676', '212', '3.5', '3.5', '95.0', '4+', 'Social Networking', '37', '1', '29', '1']\n",
      "\n",
      "\n",
      "['389801252', 'Instagram', '113954816', 'USD', '0.0', '2161558', '1289', '4.5', '4.0', '10.23', '12+', 'Photo & Video', '37', '0', '29', '1']\n",
      "\n",
      "\n",
      "['529479190', 'Clash of Clans', '116476928', 'USD', '0.0', '2130805', '579', '4.5', '4.5', '9.24.12', '9+', 'Games', '38', '5', '18', '1']\n",
      "\n",
      "\n",
      "Number of rows: 6181\n",
      "Number of columns: 16\n"
     ]
    }
   ],
   "source": [
    "google_clean = []\n",
    "apple_clean = []\n",
    "\n",
    "for app in gp_clean:\n",
    "    name = app[0]\n",
    "    if is_english(name) == True:\n",
    "        google_clean.append(app)\n",
    "\n",
    "for app in as_clean:\n",
    "    name = app[1]\n",
    "    if is_english(name) == True:\n",
    "        apple_clean.append(app)\n",
    "        \n",
    "print(\"Clean Google Play dataset sample:\")\n",
    "explore_data(google_clean, 0, 3, True)\n",
    "print(\"\\n\")\n",
    "print(\"Clean AppleStore dataset sample:\")\n",
    "explore_data(apple_clean, 0, 3, True)"
   ]
  },
  {
   "cell_type": "markdown",
   "metadata": {},
   "source": [
    "As we have cleaned our data thus far, we have removed inaccurate data, duplicate apps, and non-English apps. Our final step in the data cleaning process will be to remove all non-free apps since our data analysis covers only free apps.\n",
    "\n",
    "In the code below we loop through both datasets and check each app to see if the price is equal to 0. If the app is free, then we add it to a new, clean list."
   ]
  },
  {
   "cell_type": "code",
   "execution_count": 14,
   "metadata": {
    "scrolled": true
   },
   "outputs": [
    {
     "name": "stdout",
     "output_type": "stream",
     "text": [
      "Clean Google Play dataset sample:\n",
      "['Photo Editor & Candy Camera & Grid & ScrapBook', 'ART_AND_DESIGN', '4.1', '159', '19M', '10,000+', 'Free', '0', 'Everyone', 'Art & Design', 'January 7, 2018', '1.0.0', '4.0.3 and up']\n",
      "\n",
      "\n",
      "['U Launcher Lite – FREE Live Cool Themes, Hide Apps', 'ART_AND_DESIGN', '4.7', '87510', '8.7M', '5,000,000+', 'Free', '0', 'Everyone', 'Art & Design', 'August 1, 2018', '1.2.4', '4.0.3 and up']\n",
      "\n",
      "\n",
      "['Sketch - Draw & Paint', 'ART_AND_DESIGN', '4.5', '215644', '25M', '50,000,000+', 'Free', '0', 'Teen', 'Art & Design', 'June 8, 2018', 'Varies with device', '4.2 and up']\n",
      "\n",
      "\n",
      "Number of rows: 8864\n",
      "Number of columns: 13\n",
      "\n",
      "\n",
      "Clean AppleStore dataset sample:\n",
      "['284882215', 'Facebook', '389879808', 'USD', '0.0', '2974676', '212', '3.5', '3.5', '95.0', '4+', 'Social Networking', '37', '1', '29', '1']\n",
      "\n",
      "\n",
      "['389801252', 'Instagram', '113954816', 'USD', '0.0', '2161558', '1289', '4.5', '4.0', '10.23', '12+', 'Photo & Video', '37', '0', '29', '1']\n",
      "\n",
      "\n",
      "['529479190', 'Clash of Clans', '116476928', 'USD', '0.0', '2130805', '579', '4.5', '4.5', '9.24.12', '9+', 'Games', '38', '5', '18', '1']\n",
      "\n",
      "\n",
      "Number of rows: 3220\n",
      "Number of columns: 16\n"
     ]
    }
   ],
   "source": [
    "google_clean_final = []\n",
    "apple_clean_final = []\n",
    "\n",
    "for app in google_clean:\n",
    "    price = app[7]\n",
    "    if price == '0':\n",
    "        google_clean_final.append(app)\n",
    "\n",
    "for app in apple_clean:\n",
    "    price = app[4]\n",
    "    if price == '0.0':\n",
    "        apple_clean_final.append(app)\n",
    "        \n",
    "print(\"Clean Google Play dataset sample:\")\n",
    "explore_data(google_clean_final, 0, 3, True)\n",
    "print(\"\\n\")\n",
    "print(\"Clean AppleStore dataset sample:\")\n",
    "explore_data(apple_clean_final, 0, 3, True)"
   ]
  },
  {
   "cell_type": "markdown",
   "metadata": {},
   "source": [
    "Now that we have cleaned our data, it's time to analyze it. One of our jobs as data analysts is to determine what has been successful, what has been popular with customers or users, what hasn't been popular, etc. In this project, our goal is to create an app profile (an app template) that will be profitable. By analyzing our data, and seeing what is most popular and profitable, we will create and add our app profile to both Google Play and AppleStore.\n",
    "\n",
    "To create our profitable app profile, we will need to create several frequency tables of different aspects of the apps in our datasets to see what is most profitable, popular, or used most often. \n",
    "\n",
    "After looking at the headers of our datasets, the best columns for our analysis seem to be the 'prime_genre' column in the AppleStore dataset, and the 'Genres' and 'Category' columns in the Google Play dataset. To create these frequency tables and analyze their data, we shall build two functions. The first function will generate the frequency tables that show the percentages of the different keys. The second function will display the percentages in descending order."
   ]
  },
  {
   "cell_type": "code",
   "execution_count": 15,
   "metadata": {},
   "outputs": [
    {
     "name": "stdout",
     "output_type": "stream",
     "text": [
      "Games : 58.13664596273293\n",
      "Entertainment : 7.888198757763975\n",
      "Photo & Video : 4.968944099378882\n",
      "Education : 3.6645962732919255\n",
      "Social Networking : 3.291925465838509\n",
      "Shopping : 2.608695652173913\n",
      "Utilities : 2.515527950310559\n",
      "Sports : 2.142857142857143\n",
      "Music : 2.049689440993789\n",
      "Health & Fitness : 2.018633540372671\n",
      "Productivity : 1.7391304347826086\n",
      "Lifestyle : 1.5838509316770186\n",
      "News : 1.3354037267080745\n",
      "Travel : 1.2422360248447204\n",
      "Finance : 1.1180124223602486\n",
      "Weather : 0.8695652173913043\n",
      "Food & Drink : 0.8074534161490683\n",
      "Reference : 0.5590062111801243\n",
      "Business : 0.5279503105590062\n",
      "Book : 0.43478260869565216\n",
      "Navigation : 0.18633540372670807\n",
      "Medical : 0.18633540372670807\n",
      "Catalogs : 0.12422360248447205\n",
      "\n",
      "\n",
      "FAMILY : 18.907942238267147\n",
      "GAME : 9.724729241877256\n",
      "TOOLS : 8.461191335740072\n",
      "BUSINESS : 4.591606498194946\n",
      "LIFESTYLE : 3.9034296028880866\n",
      "PRODUCTIVITY : 3.892148014440433\n",
      "FINANCE : 3.7003610108303246\n",
      "MEDICAL : 3.531137184115524\n",
      "SPORTS : 3.395758122743682\n",
      "PERSONALIZATION : 3.3167870036101084\n",
      "COMMUNICATION : 3.2378158844765346\n",
      "HEALTH_AND_FITNESS : 3.0798736462093865\n",
      "PHOTOGRAPHY : 2.944494584837545\n",
      "NEWS_AND_MAGAZINES : 2.7978339350180503\n",
      "SOCIAL : 2.6624548736462095\n",
      "TRAVEL_AND_LOCAL : 2.33528880866426\n",
      "SHOPPING : 2.2450361010830324\n",
      "BOOKS_AND_REFERENCE : 2.1435018050541514\n",
      "DATING : 1.861462093862816\n",
      "VIDEO_PLAYERS : 1.7937725631768955\n",
      "MAPS_AND_NAVIGATION : 1.3989169675090252\n",
      "FOOD_AND_DRINK : 1.2409747292418771\n",
      "EDUCATION : 1.1620036101083033\n",
      "ENTERTAINMENT : 0.9589350180505415\n",
      "LIBRARIES_AND_DEMO : 0.9363718411552346\n",
      "AUTO_AND_VEHICLES : 0.9250902527075812\n",
      "HOUSE_AND_HOME : 0.8235559566787004\n",
      "WEATHER : 0.8009927797833934\n",
      "EVENTS : 0.7107400722021661\n",
      "PARENTING : 0.6543321299638989\n",
      "ART_AND_DESIGN : 0.6430505415162455\n",
      "COMICS : 0.6204873646209386\n",
      "BEAUTY : 0.5979241877256317\n",
      "\n",
      "\n",
      "Tools : 8.449909747292418\n",
      "Entertainment : 6.069494584837545\n",
      "Education : 5.347472924187725\n",
      "Business : 4.591606498194946\n",
      "Productivity : 3.892148014440433\n",
      "Lifestyle : 3.892148014440433\n",
      "Finance : 3.7003610108303246\n",
      "Medical : 3.531137184115524\n",
      "Sports : 3.463447653429603\n",
      "Personalization : 3.3167870036101084\n",
      "Communication : 3.2378158844765346\n",
      "Action : 3.1024368231046933\n",
      "Health & Fitness : 3.0798736462093865\n",
      "Photography : 2.944494584837545\n",
      "News & Magazines : 2.7978339350180503\n",
      "Social : 2.6624548736462095\n",
      "Travel & Local : 2.3240072202166067\n",
      "Shopping : 2.2450361010830324\n",
      "Books & Reference : 2.1435018050541514\n",
      "Simulation : 2.0419675090252705\n",
      "Dating : 1.861462093862816\n",
      "Arcade : 1.8501805054151623\n",
      "Video Players & Editors : 1.7712093862815883\n",
      "Casual : 1.7599277978339352\n",
      "Maps & Navigation : 1.3989169675090252\n",
      "Food & Drink : 1.2409747292418771\n",
      "Puzzle : 1.128158844765343\n",
      "Racing : 0.9927797833935018\n",
      "Role Playing : 0.9363718411552346\n",
      "Libraries & Demo : 0.9363718411552346\n",
      "Auto & Vehicles : 0.9250902527075812\n",
      "Strategy : 0.9138086642599278\n",
      "House & Home : 0.8235559566787004\n",
      "Weather : 0.8009927797833934\n",
      "Events : 0.7107400722021661\n",
      "Adventure : 0.6768953068592057\n",
      "Comics : 0.6092057761732852\n",
      "Beauty : 0.5979241877256317\n",
      "Art & Design : 0.5979241877256317\n",
      "Parenting : 0.4963898916967509\n",
      "Card : 0.45126353790613716\n",
      "Casino : 0.42870036101083037\n",
      "Trivia : 0.41741877256317694\n",
      "Educational;Education : 0.39485559566787\n",
      "Board : 0.3835740072202166\n",
      "Educational : 0.3722924187725632\n",
      "Education;Education : 0.33844765342960287\n",
      "Word : 0.2594765342960289\n",
      "Casual;Pretend Play : 0.236913357400722\n",
      "Music : 0.2030685920577617\n",
      "Racing;Action & Adventure : 0.16922382671480143\n",
      "Puzzle;Brain Games : 0.16922382671480143\n",
      "Entertainment;Music & Video : 0.16922382671480143\n",
      "Casual;Brain Games : 0.13537906137184114\n",
      "Casual;Action & Adventure : 0.13537906137184114\n",
      "Arcade;Action & Adventure : 0.12409747292418773\n",
      "Action;Action & Adventure : 0.10153429602888085\n",
      "Educational;Pretend Play : 0.09025270758122744\n",
      "Simulation;Action & Adventure : 0.078971119133574\n",
      "Parenting;Education : 0.078971119133574\n",
      "Entertainment;Brain Games : 0.078971119133574\n",
      "Board;Brain Games : 0.078971119133574\n",
      "Parenting;Music & Video : 0.06768953068592057\n",
      "Educational;Brain Games : 0.06768953068592057\n",
      "Casual;Creativity : 0.06768953068592057\n",
      "Art & Design;Creativity : 0.06768953068592057\n",
      "Education;Pretend Play : 0.056407942238267145\n",
      "Role Playing;Pretend Play : 0.04512635379061372\n",
      "Education;Creativity : 0.04512635379061372\n",
      "Role Playing;Action & Adventure : 0.033844765342960284\n",
      "Puzzle;Action & Adventure : 0.033844765342960284\n",
      "Entertainment;Creativity : 0.033844765342960284\n",
      "Entertainment;Action & Adventure : 0.033844765342960284\n",
      "Educational;Creativity : 0.033844765342960284\n",
      "Educational;Action & Adventure : 0.033844765342960284\n",
      "Education;Music & Video : 0.033844765342960284\n",
      "Education;Brain Games : 0.033844765342960284\n",
      "Education;Action & Adventure : 0.033844765342960284\n",
      "Adventure;Action & Adventure : 0.033844765342960284\n",
      "Video Players & Editors;Music & Video : 0.02256317689530686\n",
      "Sports;Action & Adventure : 0.02256317689530686\n",
      "Simulation;Pretend Play : 0.02256317689530686\n",
      "Puzzle;Creativity : 0.02256317689530686\n",
      "Music;Music & Video : 0.02256317689530686\n",
      "Entertainment;Pretend Play : 0.02256317689530686\n",
      "Casual;Education : 0.02256317689530686\n",
      "Board;Action & Adventure : 0.02256317689530686\n",
      "Video Players & Editors;Creativity : 0.01128158844765343\n",
      "Trivia;Education : 0.01128158844765343\n",
      "Travel & Local;Action & Adventure : 0.01128158844765343\n",
      "Tools;Education : 0.01128158844765343\n",
      "Strategy;Education : 0.01128158844765343\n",
      "Strategy;Creativity : 0.01128158844765343\n",
      "Strategy;Action & Adventure : 0.01128158844765343\n",
      "Simulation;Education : 0.01128158844765343\n",
      "Role Playing;Brain Games : 0.01128158844765343\n",
      "Racing;Pretend Play : 0.01128158844765343\n",
      "Puzzle;Education : 0.01128158844765343\n",
      "Parenting;Brain Games : 0.01128158844765343\n",
      "Music & Audio;Music & Video : 0.01128158844765343\n",
      "Lifestyle;Pretend Play : 0.01128158844765343\n",
      "Lifestyle;Education : 0.01128158844765343\n",
      "Health & Fitness;Education : 0.01128158844765343\n",
      "Health & Fitness;Action & Adventure : 0.01128158844765343\n",
      "Entertainment;Education : 0.01128158844765343\n",
      "Communication;Creativity : 0.01128158844765343\n",
      "Comics;Creativity : 0.01128158844765343\n",
      "Casual;Music & Video : 0.01128158844765343\n",
      "Card;Action & Adventure : 0.01128158844765343\n",
      "Books & Reference;Education : 0.01128158844765343\n",
      "Art & Design;Pretend Play : 0.01128158844765343\n",
      "Art & Design;Action & Adventure : 0.01128158844765343\n",
      "Arcade;Pretend Play : 0.01128158844765343\n",
      "Adventure;Education : 0.01128158844765343\n"
     ]
    }
   ],
   "source": [
    "def freq_table(dataset, index):\n",
    "    frequency_table = {}\n",
    "    total = 0\n",
    "    for row in dataset:\n",
    "        total += 1\n",
    "        a_data_point = row[index]\n",
    "        if a_data_point in frequency_table:\n",
    "            frequency_table[a_data_point] += 1\n",
    "        else:\n",
    "            frequency_table[a_data_point] = 1\n",
    "    \n",
    "    frequency_percentages = {}\n",
    "    for key in frequency_table:\n",
    "        percentage = (frequency_table[key] / total) * 100\n",
    "        frequency_percentages[key] = percentage\n",
    "    \n",
    "    return frequency_percentages\n",
    "\n",
    "\n",
    "def display_table(dataset, index):\n",
    "    table = freq_table(dataset, index)\n",
    "    table_display = []\n",
    "    for key in table:\n",
    "        key_val_as_tuple = (table[key], key)\n",
    "        table_display.append(key_val_as_tuple)\n",
    "\n",
    "    table_sorted = sorted(table_display, reverse = True)\n",
    "    for entry in table_sorted:\n",
    "        print(entry[1], ':', entry[0])\n",
    "\n",
    "\n",
    "display_table(apple_clean_final, 11)\n",
    "print('\\n')\n",
    "display_table(google_clean_final, 1)\n",
    "print('\\n')\n",
    "display_table(google_clean_final, 9)"
   ]
  },
  {
   "cell_type": "markdown",
   "metadata": {},
   "source": [
    "Now that we have all the percentages right in front of us, let's begin to analyze, starting with the 'prime_genre' column in the AppleStore dataset. We can see that the majority of the apps are \"Games\" in genre, at 58.1%. After \"Games\" there is \"Entertainment\", at 7.8%, followed by \"Photo & Video, at 4.9%. From the order of these genres, we get the impression that most of these apps are designed for enjoyment purposes, while a lesser amount of the apps are designed for practical purposes. The profile we would recommend for the App Store market would be one designed for enjoyment, preferably somewhere around the \"Games\" and \"Entertainment\" genres. This is not necessarily to say that apps of these genres have the most users, as the demand for these genres is possibly not the same as the offer of them."
   ]
  },
  {
   "cell_type": "markdown",
   "metadata": {},
   "source": [
    "Turning our attention to the other two tables from the Google Play dataset, we can see that 'FAMILY' holds the highest rank in the 'Category' column at 18.9%, followed by 'GAME' at 9.7%. In the 'Genres' column, we have 'Tools' as the highest genre, seconded by 'Entertainment' at 6.0%. Studying the general patterns of these two columns, we can see that the majority of the apps in this dataset are designed for more practical uses, with the lesser percentage given to 'Games' or 'Entertainment'. In comparison with the AppleStore dataset, it is clear that while 'Games' are still high on the list, they are not the main leaning of the Google Play dataset, as is the AppleStore dataset. The recommended app profile these tables give for the Google Play market is one of a more practical genre rather than an entertainment-based genre. However, if we were to recommend an app profile from the data of both tables, it would be one of a more useful, while still entertaining, genre. Like maybe an educational game, for example."
   ]
  },
  {
   "cell_type": "markdown",
   "metadata": {},
   "source": [
    "After analyzing both datasets, we also want to determine which types of apps have the highest number of users. To do this we will calculate the average number of installs for each app genre. This analysis will help us determine which apps are popular among users, rather than simply which apps have been designed the most, as we did before.\n",
    "\n",
    "In the code below, we are starting with the AppleStore dataset. Using nested for loops, we isolate the apps of each genre, calculate the total rating for that genre, and divide that number by the total number of apps in that genre. The final number will show us the average number of user ratings per app genre, thus showing us which genre of app is most popular."
   ]
  },
  {
   "cell_type": "code",
   "execution_count": 16,
   "metadata": {},
   "outputs": [
    {
     "name": "stdout",
     "output_type": "stream",
     "text": [
      "App Genre: Social Networking; Average Number of User ratings: 71548.34905660378\n",
      "\n",
      "\n",
      "App Genre: Photo & Video; Average Number of User ratings: 28441.54375\n",
      "\n",
      "\n",
      "App Genre: Games; Average Number of User ratings: 22812.92467948718\n",
      "\n",
      "\n",
      "App Genre: Music; Average Number of User ratings: 57326.530303030304\n",
      "\n",
      "\n",
      "App Genre: Reference; Average Number of User ratings: 74942.11111111111\n",
      "\n",
      "\n",
      "App Genre: Health & Fitness; Average Number of User ratings: 23298.015384615384\n",
      "\n",
      "\n",
      "App Genre: Weather; Average Number of User ratings: 52279.892857142855\n",
      "\n",
      "\n",
      "App Genre: Utilities; Average Number of User ratings: 18684.456790123455\n",
      "\n",
      "\n",
      "App Genre: Travel; Average Number of User ratings: 28243.8\n",
      "\n",
      "\n",
      "App Genre: Shopping; Average Number of User ratings: 26919.690476190477\n",
      "\n",
      "\n",
      "App Genre: News; Average Number of User ratings: 21248.023255813954\n",
      "\n",
      "\n",
      "App Genre: Navigation; Average Number of User ratings: 86090.33333333333\n",
      "\n",
      "\n",
      "App Genre: Lifestyle; Average Number of User ratings: 16485.764705882353\n",
      "\n",
      "\n",
      "App Genre: Entertainment; Average Number of User ratings: 14029.830708661417\n",
      "\n",
      "\n",
      "App Genre: Food & Drink; Average Number of User ratings: 33333.92307692308\n",
      "\n",
      "\n",
      "App Genre: Sports; Average Number of User ratings: 23008.898550724636\n",
      "\n",
      "\n",
      "App Genre: Book; Average Number of User ratings: 39758.5\n",
      "\n",
      "\n",
      "App Genre: Finance; Average Number of User ratings: 31467.944444444445\n",
      "\n",
      "\n",
      "App Genre: Education; Average Number of User ratings: 7003.983050847458\n",
      "\n",
      "\n",
      "App Genre: Productivity; Average Number of User ratings: 21028.410714285714\n",
      "\n",
      "\n",
      "App Genre: Business; Average Number of User ratings: 7491.117647058823\n",
      "\n",
      "\n",
      "App Genre: Catalogs; Average Number of User ratings: 4004.0\n",
      "\n",
      "\n",
      "App Genre: Medical; Average Number of User ratings: 612.0\n",
      "\n",
      "\n"
     ]
    }
   ],
   "source": [
    "genres_as = freq_table(apple_clean_final, 11) #'as' stands for AppleStore\n",
    "\n",
    "for genre in genres_as:\n",
    "    total = 0\n",
    "    len_genre = 0\n",
    "    for app in apple_clean_final:\n",
    "        genre_app = app[11]\n",
    "        if genre_app == genre:\n",
    "            ratings = float(app[5])\n",
    "            total += ratings\n",
    "            len_genre += 1\n",
    "    average = total/len_genre\n",
    "    print('App Genre: ' + str(genre) + '; Average Number of User ratings: ' + str(average))\n",
    "    print('\\n')"
   ]
  },
  {
   "cell_type": "markdown",
   "metadata": {},
   "source": [
    "In studying this output, we see that the 'Navigation' genre has the highest average at 86,090, followed by 'Reference' at 74,942 and 'Social Networking' at 71,548. This result shows that in the AppleStore market, Navigation apps are the most popular. With that conclusion, we can recommend a popular app profile for the AppleStore market. This profile consists of a practical genre, specifically leaning toward navigation."
   ]
  },
  {
   "cell_type": "markdown",
   "metadata": {},
   "source": [
    "Moving on to the Google Play dataset, the code below will be very similar to what we did above with the AppleStore dataset. Once we determine the average number of installs for each app genre, we will make an analysis below."
   ]
  },
  {
   "cell_type": "code",
   "execution_count": 19,
   "metadata": {},
   "outputs": [
    {
     "name": "stdout",
     "output_type": "stream",
     "text": [
      "App Category: ART_AND_DESIGN; Average Number of Installs: 1986335.0877192982\n",
      "\n",
      "\n",
      "App Category: AUTO_AND_VEHICLES; Average Number of Installs: 647317.8170731707\n",
      "\n",
      "\n",
      "App Category: BEAUTY; Average Number of Installs: 513151.88679245283\n",
      "\n",
      "\n",
      "App Category: BOOKS_AND_REFERENCE; Average Number of Installs: 8767811.894736841\n",
      "\n",
      "\n",
      "App Category: BUSINESS; Average Number of Installs: 1712290.1474201474\n",
      "\n",
      "\n",
      "App Category: COMICS; Average Number of Installs: 817657.2727272727\n",
      "\n",
      "\n",
      "App Category: COMMUNICATION; Average Number of Installs: 38456119.167247385\n",
      "\n",
      "\n",
      "App Category: DATING; Average Number of Installs: 854028.8303030303\n",
      "\n",
      "\n",
      "App Category: EDUCATION; Average Number of Installs: 1833495.145631068\n",
      "\n",
      "\n",
      "App Category: ENTERTAINMENT; Average Number of Installs: 11640705.88235294\n",
      "\n",
      "\n",
      "App Category: EVENTS; Average Number of Installs: 253542.22222222222\n",
      "\n",
      "\n",
      "App Category: FINANCE; Average Number of Installs: 1387692.475609756\n",
      "\n",
      "\n",
      "App Category: FOOD_AND_DRINK; Average Number of Installs: 1924897.7363636363\n",
      "\n",
      "\n",
      "App Category: HEALTH_AND_FITNESS; Average Number of Installs: 4188821.9853479853\n",
      "\n",
      "\n",
      "App Category: HOUSE_AND_HOME; Average Number of Installs: 1331540.5616438356\n",
      "\n",
      "\n",
      "App Category: LIBRARIES_AND_DEMO; Average Number of Installs: 638503.734939759\n",
      "\n",
      "\n",
      "App Category: LIFESTYLE; Average Number of Installs: 1437816.2687861272\n",
      "\n",
      "\n",
      "App Category: GAME; Average Number of Installs: 15588015.603248259\n",
      "\n",
      "\n",
      "App Category: FAMILY; Average Number of Installs: 3695641.8198090694\n",
      "\n",
      "\n",
      "App Category: MEDICAL; Average Number of Installs: 120550.61980830671\n",
      "\n",
      "\n",
      "App Category: SOCIAL; Average Number of Installs: 23253652.127118643\n",
      "\n",
      "\n",
      "App Category: SHOPPING; Average Number of Installs: 7036877.311557789\n",
      "\n",
      "\n",
      "App Category: PHOTOGRAPHY; Average Number of Installs: 17840110.40229885\n",
      "\n",
      "\n",
      "App Category: SPORTS; Average Number of Installs: 3638640.1428571427\n",
      "\n",
      "\n",
      "App Category: TRAVEL_AND_LOCAL; Average Number of Installs: 13984077.710144928\n",
      "\n",
      "\n",
      "App Category: TOOLS; Average Number of Installs: 10801391.298666667\n",
      "\n",
      "\n",
      "App Category: PERSONALIZATION; Average Number of Installs: 5201482.6122448975\n",
      "\n",
      "\n",
      "App Category: PRODUCTIVITY; Average Number of Installs: 16787331.344927534\n",
      "\n",
      "\n",
      "App Category: PARENTING; Average Number of Installs: 542603.6206896552\n",
      "\n",
      "\n",
      "App Category: WEATHER; Average Number of Installs: 5074486.197183099\n",
      "\n",
      "\n",
      "App Category: VIDEO_PLAYERS; Average Number of Installs: 24727872.452830188\n",
      "\n",
      "\n",
      "App Category: NEWS_AND_MAGAZINES; Average Number of Installs: 9549178.467741935\n",
      "\n",
      "\n",
      "App Category: MAPS_AND_NAVIGATION; Average Number of Installs: 4056941.7741935486\n",
      "\n",
      "\n"
     ]
    }
   ],
   "source": [
    "category_gp = freq_table(google_clean_final, 1) #'gp' stands for Google Play\n",
    "\n",
    "for category in category_gp:\n",
    "    total = 0\n",
    "    len_category = 0\n",
    "    for app in google_clean_final:\n",
    "        category_app = app[1]\n",
    "        if category_app == category:\n",
    "            installs = app[5]\n",
    "            installs = installs.replace('+', '')\n",
    "            installs = installs.replace(',', '')\n",
    "            installs = float(installs)\n",
    "            total += installs\n",
    "            len_category += 1\n",
    "    average = total/len_category\n",
    "    print('App Category: ' + str(category) + '; Average Number of Installs: ' + str(average))\n",
    "    print('\\n')"
   ]
  },
  {
   "cell_type": "markdown",
   "metadata": {},
   "source": [
    "We now have our categories paired with each one's number of installs. After studying this new output, we have determined that 'COMMUNICATION' has the most installs at 38456119. Next is 'VIDEO_PLAYERS' at 24727872 installs. Finally, in third place, we have 'SOCIAL' at 23253652 installs. In looking at the titles of these three categories, we can see a common genre of something like social media, where people communicate, share videos, and are social. That identified, we recommend a social media leaning genre or category for a popular app profile in the Google Play market.\n",
    "\n",
    "To recap, our criteria for the mobile app profile were that the app should be free and consist of a popular genre. With clean datasets, containing only free apps that are written in English, we were able to make several analysis tables and recommendations. Finally, after analyzing the most popular app genres in both datasets, we can create a unified app profile. \n",
    "\n",
    "According to the AppleStore dataset, the 'Navigation' genre is the most popular. Meanwhile, in the Google Play dataset, the most popular genre is 'Social Media'. By combining elements of these two genres, we arrive at 'Community Navigation' as our ultimate genre. An app with this genre could look like a navigational app that connects the community of people using it, thus incorporating the social media aspect. For example, maybe one user could communicate a new road blockage, accident, etc., to other users of the app, making their navigation of the roads more efficient. Or, in another example, maybe one user could alert other users of flight cancelations, sales, or delays, thus making flight navigation faster as well. After determining the final genre, we can recommend a popular mobile app profile that fits the AppleStore and Google Play markets. The app should be free, available in English, and belong to the \"Community Navigation\" genre."
   ]
  }
 ],
 "metadata": {
  "kernelspec": {
   "display_name": "Python 3 (ipykernel)",
   "language": "python",
   "name": "python3"
  },
  "language_info": {
   "codemirror_mode": {
    "name": "ipython",
    "version": 3
   },
   "file_extension": ".py",
   "mimetype": "text/x-python",
   "name": "python",
   "nbconvert_exporter": "python",
   "pygments_lexer": "ipython3",
   "version": "3.12.4"
  }
 },
 "nbformat": 4,
 "nbformat_minor": 4
}
